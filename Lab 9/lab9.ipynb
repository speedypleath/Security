{
 "cells": [
  {
   "cell_type": "markdown",
   "metadata": {},
   "source": [
    "## 1. Linear Feedback Shift Registers (LFSRs)\n",
    "\n",
    "Implementați  un  LFSR  definit  peste  F2  care  permite  citirea  de  la  tastatură  a coeficienților c1, ... cL și a stării inițiale s0, ..., sL-1 (toate aceste valori sunt elemente binare, 0 sau 1). Generați și afișați secvența de ieșire pentru o perioadă completă și valoarea perioadei. Testați funcționarea corectă pe exemplul din Tabelul 1 prezent în sursa indicată mai sus. "
   ]
  },
  {
   "cell_type": "code",
   "execution_count": 40,
   "metadata": {},
   "outputs": [
    {
     "ename": "TypeError",
     "evalue": "unsupported operand type(s) for &: 'int' and 'bytes'",
     "output_type": "error",
     "traceback": [
      "\u001b[0;31m---------------------------------------------------------------------------\u001b[0m",
      "\u001b[0;31mTypeError\u001b[0m                                 Traceback (most recent call last)",
      "\u001b[0;32m/var/folders/jm/767f84lj1c95x8fyjndbl6kw0000gn/T/ipykernel_2318/2738490331.py\u001b[0m in \u001b[0;36m<module>\u001b[0;34m\u001b[0m\n\u001b[1;32m      7\u001b[0m             \u001b[0;32myield\u001b[0m \u001b[0mc\u001b[0m \u001b[0;34m^\u001b[0m \u001b[0miv\u001b[0m       \u001b[0;31m# yield one byte\u001b[0m\u001b[0;34m\u001b[0m\u001b[0;34m\u001b[0m\u001b[0m\n\u001b[1;32m      8\u001b[0m \u001b[0;34m\u001b[0m\u001b[0m\n\u001b[0;32m----> 9\u001b[0;31m \u001b[0mprint\u001b[0m\u001b[0;34m(\u001b[0m\u001b[0mbytes\u001b[0m\u001b[0;34m(\u001b[0m\u001b[0mLFSR\u001b[0m\u001b[0;34m(\u001b[0m\u001b[0;34mb'0011'\u001b[0m\u001b[0;34m,\u001b[0m \u001b[0;34mb'1101'\u001b[0m\u001b[0;34m)\u001b[0m\u001b[0;34m)\u001b[0m\u001b[0;34m)\u001b[0m\u001b[0;34m\u001b[0m\u001b[0;34m\u001b[0m\u001b[0m\n\u001b[0m",
      "\u001b[0;32m/var/folders/jm/767f84lj1c95x8fyjndbl6kw0000gn/T/ipykernel_2318/2738490331.py\u001b[0m in \u001b[0;36mLFSR\u001b[0;34m(data, iv)\u001b[0m\n\u001b[1;32m      1\u001b[0m \u001b[0;32mdef\u001b[0m \u001b[0mLFSR\u001b[0m\u001b[0;34m(\u001b[0m\u001b[0mdata\u001b[0m\u001b[0;34m,\u001b[0m \u001b[0miv\u001b[0m\u001b[0;34m)\u001b[0m\u001b[0;34m:\u001b[0m\u001b[0;34m\u001b[0m\u001b[0;34m\u001b[0m\u001b[0m\n\u001b[1;32m      2\u001b[0m          \u001b[0;32mfor\u001b[0m \u001b[0mc\u001b[0m \u001b[0;32min\u001b[0m \u001b[0mdata\u001b[0m\u001b[0;34m:\u001b[0m\u001b[0;34m\u001b[0m\u001b[0;34m\u001b[0m\u001b[0m\n\u001b[0;32m----> 3\u001b[0;31m             \u001b[0mlsb\u001b[0m \u001b[0;34m=\u001b[0m \u001b[0;36m1\u001b[0m \u001b[0;34m&\u001b[0m \u001b[0miv\u001b[0m       \u001b[0;31m# save the rightmost bit\u001b[0m\u001b[0;34m\u001b[0m\u001b[0;34m\u001b[0m\u001b[0m\n\u001b[0m\u001b[1;32m      4\u001b[0m             \u001b[0miv\u001b[0m \u001b[0;34m>>=\u001b[0m \u001b[0;36m1\u001b[0m           \u001b[0;31m# shift\u001b[0m\u001b[0;34m\u001b[0m\u001b[0;34m\u001b[0m\u001b[0m\n\u001b[1;32m      5\u001b[0m             \u001b[0;32mif\u001b[0m \u001b[0mlsb\u001b[0m\u001b[0;34m:\u001b[0m\u001b[0;34m\u001b[0m\u001b[0;34m\u001b[0m\u001b[0m\n",
      "\u001b[0;31mTypeError\u001b[0m: unsupported operand type(s) for &: 'int' and 'bytes'"
     ]
    }
   ],
   "source": [
    "import io\n",
    "\n",
    "def LFSR(data, iv):\n",
    "    for c in data:\n",
    "        iv = int(iv)\n",
    "        lsb = 1 & int(iv)\n",
    "        iv >>= 1          \n",
    "        if lsb:\n",
    "            iv ^= 0x95\n",
    "        yield c ^ iv \n",
    "\n",
    "def read(n):\n",
    "    data = io.BytesIO(input().encode()).read()\n",
    "    iv = io.BytesIO(input().encode()).read()\n",
    "    i = 0\n",
    "    print(data, iv)\n",
    "    for data in LFSR(data, iv):\n",
    "        data = data.to_bytes(1, 'big')\n",
    "        print(data.to_bytes(1, 'big'))\n",
    "        i += 1\n",
    "        if i == n:\n",
    "            break\n",
    "read(5)\n",
    "\n",
    "\n",
    "# I give up"
   ]
  },
  {
   "cell_type": "markdown",
   "metadata": {},
   "source": [
    "## Citiți despre utilizarea AES în Python [2]. "
   ]
  },
  {
   "cell_type": "code",
   "execution_count": 43,
   "metadata": {},
   "outputs": [
    {
     "name": "stdout",
     "output_type": "stream",
     "text": [
      "b'\\x88\\x10\\x86\\xe2\\xf3\\xaai)\\x9fz\\xcb\\xf0h4\\xa4\\xec\\x88\\x10\\x86\\xe2\\xf3\\xaai)\\x9fz\\xcb\\xf0h4\\xa4\\xec\\x88\\x10\\x86\\xe2\\xf3\\xaai)\\x9fz\\xcb\\xf0h4\\xa4\\xec'\n"
     ]
    }
   ],
   "source": [
    "from Crypto.Cipher import AES\n",
    "key = b'O cheie oarecare'\n",
    "data = b'testtesttesttesttesttesttesttesttesttesttesttest'\n",
    "\n",
    "cipher = AES.new(key, AES.MODE_ECB)\n",
    "ciphertext = cipher.encrypt(data)\n",
    "print(ciphertext)"
   ]
  },
  {
   "cell_type": "markdown",
   "metadata": {},
   "source": [
    "### Răspundeți la următoarele cerințe: \n",
    "a) Executați secvența de mai sus. Ce obțineți? \n",
    "\n",
    "    b'\\x88\\x10\\x86\\xe2\\xf3\\xaai)\\x9fz\\xcb\\xf0h4\\xa4\\xec\\x88\\x10\\x86\\xe2\\xf3\\xaai)\\x9fz\\xcb\\xf0h4\\xa4\\xec\\x88\\x10\\x86\\xe2\\xf3\\xaai)\\x9fz\\xcb\\xf0h4\\xa4\\xec'\n",
    "\n",
    "b) Ce mod de operare este folosit? Ce observați? \n",
    "\n",
    "    ECB, datele nu au padding-ul setat corect\n",
    "\n",
    "c) Ați recomanda folosirea modului de operare de la b)? De ce? De ce nu?\n",
    "\n",
    "    Nu, pentru ca nu este sigur ca o sa functioneze\n",
    "\n",
    "d) Care este dimensiunea cheii? Dar a blocului? \n",
    "\n",
    "    16, respestic 48\n",
    "\n",
    "e) Modificați codul astfel încât să funcționeze dacă se înlocuiește valoarea data cu data=b'test'. "
   ]
  },
  {
   "cell_type": "code",
   "execution_count": 44,
   "metadata": {},
   "outputs": [
    {
     "name": "stdout",
     "output_type": "stream",
     "text": [
      "b'\\xe8\\xaa\\xa5\\xda\\t\\xde\\xc3\\xbf\\xa4\\xd4#R0\\xb9\\x01\\xb7'\n"
     ]
    }
   ],
   "source": [
    "from Crypto.Cipher import AES\n",
    "key = b'O cheie oarecare'\n",
    "data = b'test'\n",
    "\n",
    "cipher = AES.new(key, AES.MODE_ECB)\n",
    "\n",
    "length = len(data)\n",
    "\n",
    "while len(data) < len(key):\n",
    "    cipher = AES.new(key, AES.MODE_ECB)\n",
    "    length = 16 - (len(data) % 16)\n",
    "    data += bytes([length])*length\n",
    "\n",
    "data = data[:len(key)]\n",
    "ciphertext = cipher.encrypt(data)\n",
    "print(ciphertext)\n"
   ]
  },
  {
   "cell_type": "markdown",
   "metadata": {},
   "source": [
    "f) Refaceți codul, schimbând modul de operare cu un alt mod de operare pe care îl considerați mai potrivit."
   ]
  },
  {
   "cell_type": "code",
   "execution_count": 45,
   "metadata": {},
   "outputs": [
    {
     "name": "stdout",
     "output_type": "stream",
     "text": [
      "b'\\xe0\\xf5\\x08r'\n"
     ]
    }
   ],
   "source": [
    "from Crypto.Cipher import AES\n",
    "key = b'O cheie oarecare'\n",
    "data = b'test'\n",
    "\n",
    "cipher = AES.new(key, AES.MODE_GCM)\n",
    "ciphertext = cipher.encrypt(data)\n",
    "print(ciphertext)"
   ]
  },
  {
   "cell_type": "markdown",
   "metadata": {},
   "source": [
    "## 3. Atacul Meet-in-the-Middle"
   ]
  },
  {
   "cell_type": "markdown",
   "metadata": {},
   "source": [
    "Implementați un atac de tip Meet-in-the-Middle pentru a determina cele 2 chei (i.e., cele doua valori hexazecimale marcate cu ?). Câte chei ați testat în total? Câte criptări / decriptări ați făcut?"
   ]
  },
  {
   "cell_type": "code",
   "execution_count": 53,
   "metadata": {},
   "outputs": [
    {
     "ename": "ModuleNotFoundError",
     "evalue": "No module named 'docopt'",
     "output_type": "error",
     "traceback": [
      "\u001b[0;31m---------------------------------------------------------------------------\u001b[0m",
      "\u001b[0;31mModuleNotFoundError\u001b[0m                       Traceback (most recent call last)",
      "\u001b[0;32m/var/folders/jm/767f84lj1c95x8fyjndbl6kw0000gn/T/ipykernel_2318/1715382343.py\u001b[0m in \u001b[0;36m<module>\u001b[0;34m\u001b[0m\n\u001b[1;32m    135\u001b[0m \u001b[0;34m\u001b[0m\u001b[0m\n\u001b[1;32m    136\u001b[0m \u001b[0;32mif\u001b[0m \u001b[0m__name__\u001b[0m \u001b[0;34m==\u001b[0m \u001b[0;34m'__main__'\u001b[0m\u001b[0;34m:\u001b[0m\u001b[0;34m\u001b[0m\u001b[0;34m\u001b[0m\u001b[0m\n\u001b[0;32m--> 137\u001b[0;31m     \u001b[0mrun\u001b[0m\u001b[0;34m(\u001b[0m\u001b[0;34m)\u001b[0m\u001b[0;34m\u001b[0m\u001b[0;34m\u001b[0m\u001b[0m\n\u001b[0m",
      "\u001b[0;32m/var/folders/jm/767f84lj1c95x8fyjndbl6kw0000gn/T/ipykernel_2318/1715382343.py\u001b[0m in \u001b[0;36mrun\u001b[0;34m(argv)\u001b[0m\n\u001b[1;32m     86\u001b[0m     \"\"\"\n\u001b[1;32m     87\u001b[0m     \u001b[0;32mimport\u001b[0m \u001b[0msys\u001b[0m\u001b[0;34m\u001b[0m\u001b[0;34m\u001b[0m\u001b[0m\n\u001b[0;32m---> 88\u001b[0;31m     \u001b[0;32mimport\u001b[0m \u001b[0mdocopt\u001b[0m\u001b[0;34m\u001b[0m\u001b[0;34m\u001b[0m\u001b[0m\n\u001b[0m\u001b[1;32m     89\u001b[0m     \u001b[0;32mimport\u001b[0m \u001b[0mtextwrap\u001b[0m\u001b[0;34m\u001b[0m\u001b[0;34m\u001b[0m\u001b[0m\n\u001b[1;32m     90\u001b[0m     \u001b[0;32mfrom\u001b[0m \u001b[0mbinascii\u001b[0m \u001b[0;32mimport\u001b[0m \u001b[0munhexlify\u001b[0m\u001b[0;34m,\u001b[0m \u001b[0mhexlify\u001b[0m\u001b[0;34m\u001b[0m\u001b[0;34m\u001b[0m\u001b[0m\n",
      "\u001b[0;31mModuleNotFoundError\u001b[0m: No module named 'docopt'"
     ]
    }
   ],
   "source": [
    "from Crypto.Cipher import DES\n",
    "\n",
    "def encrypt(key, plain_text):\n",
    "    cipher = DES.new(key, DES.MODE_ECB)\n",
    "    return cipher.encrypt(plain_text)\n",
    "\n",
    "\n",
    "def decrypt(key, cipher_text):\n",
    "    cipher = DES.new(key, DES.MODE_ECB)\n",
    "    return cipher.decrypt(cipher_text)\n",
    "\n",
    "def nth_key(index):\n",
    "\n",
    "\n",
    "ciphertext = \"G\\xfd\\xdfpd\\xa5\\xc9'C\\xe2\\xf0\\x84)\\xef\\xeb\\xf9\"\n",
    "\n",
    "nbits = len(ciphertext) * 8\n",
    "\n",
    "text_pairs = (\"\\x00\\x00\\x00\\x00\\x00\\x00\\x00\", \"\\x00\\x00\\x00\\x00\\x00\\x00\\x00\")\n",
    "\n",
    "key_generator = (nth_key(i) for i in range(0, 2**nbits))\n",
    "\n",
    "\n",
    "table = dict([(encrypt(key, text_pairs), key) for i in range(0, 2**nbits)])\n",
    "\n",
    "for key in key_generator:\n",
    "    candidate = decrypt(key, ciphertext)\n",
    "    if candidate in table:\n",
    "        for plain, cipher in text_pairs[1:]:\n",
    "            if not decrypt(key, cipher) == encrypt(key, plain):\n",
    "                continue \n",
    "\n",
    "        print(table[candidate], key)\n",
    "        break\n",
    "    \n",
    "# I give up again too tired:("
   ]
  }
 ],
 "metadata": {
  "interpreter": {
   "hash": "b0fa6594d8f4cbf19f97940f81e996739fb7646882a419484c72d19e05852a7e"
  },
  "kernelspec": {
   "display_name": "Python 3.9.9 64-bit",
   "language": "python",
   "name": "python3"
  },
  "language_info": {
   "codemirror_mode": {
    "name": "ipython",
    "version": 3
   },
   "file_extension": ".py",
   "mimetype": "text/x-python",
   "name": "python",
   "nbconvert_exporter": "python",
   "pygments_lexer": "ipython3",
   "version": "3.9.9"
  },
  "orig_nbformat": 4
 },
 "nbformat": 4,
 "nbformat_minor": 2
}
