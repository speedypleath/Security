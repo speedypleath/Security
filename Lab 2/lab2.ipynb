{
 "cells": [
  {
   "cell_type": "markdown",
   "metadata": {},
   "source": [
    "# 1. Noțiuni generale\n",
    "### &ensp;&ensp;&ensp; (A) Criptologie : (4) Știința care se ocupă de criptanaliză și criptografie\n",
    "\n",
    "### &ensp;&ensp;&ensp; (B) Criptografie : (2) Disciplina care studiază principiile, mijloacele și metodele de transformare a datelor pentru a ascunde conținutul lor semantic, a preveni utilizarea lor neautorizată sau a preveni modificarea lor nedetectată. \n",
    "\n",
    "### &ensp;&ensp;&ensp; (C) Criptanaliză : (5) Încercarea de a înfrânge protecția criptografice fără o cunoaștere inițială a cheii utilizate în furnizarea protecției. \n",
    "\n",
    "### &ensp;&ensp;&ensp; (D) Confidențialitate : (1)  Asigurarea că informațiile nu sunt dezvăluite entităților neautorizate. \n",
    "\n",
    "### &ensp;&ensp;&ensp; (E) Integritate : (6)  Protejarea împotriva modificării sau distrugerii necorespunzătoare a informațiilor.\n",
    "\n",
    "### &ensp;&ensp;&ensp; (F) Disponibilitate : (3) Asigurarea accesului și utilizării informațiilor în timp util și fiabil. "
   ]
  },
  {
   "cell_type": "markdown",
   "metadata": {},
   "source": [
    "# 2. Triada Confidentiality, Integrity, Availability (CIA)\n",
    "## Pentru fiecare dintre afirmațiile de mai jos, indicați proprietatea (proprietățile) CIA la care se face referire: \n",
    "\n",
    "### &ensp;&ensp;&ensp; 1. Salariile angajaților nu trebuie făcute publice. \n",
    "\n",
    "            Confidentiality\n",
    "### &ensp;&ensp;&ensp; 2. Biroul casierie trebuie să aibă acces la salariile angajaților (pentru a realiza plățile). \n",
    "\n",
    "            Availability\n",
    "### &ensp;&ensp;&ensp; 3. Un angajat nu își poate modifica singur suma primită ca salariu pe luna în curs. \n",
    "\n",
    "            Integrity\n",
    "### &ensp;&ensp;&ensp; 4. Un angajat nu ar trebui să afle cât câștiga un coleg fără acordul acestuia (ex. să îi spună direct). \n",
    "\n",
    "            Confidentiality\n",
    "### &ensp;&ensp;&ensp; 5. Biroul casierie trebuie să aibă certitudinea că suma pe care o înmânează angajatului de plată este cea corectă.\n",
    "\n",
    "            Integrity"
   ]
  },
  {
   "cell_type": "markdown",
   "metadata": {},
   "source": [
    "# 3. Adversar Probabilistic Polinomial în Timp (PPT) \n",
    "## Răspundeți cu adevărat sau fals: \n",
    "\n",
    "### &ensp;&ensp;&ensp; 1. Un adversar care are la dispoziție un timp infinit pentru criptanaliza unui sistem este un adversar PPT.\n",
    "\n",
    "            Fals\n",
    "\n",
    "### &ensp;&ensp;&ensp; 2. Un adversar PPT are dreptul de a „ghici” cheia.      \n",
    "\n",
    "            Adevărat\n",
    "\n",
    "### &ensp;&ensp;&ensp; 3. Un adversar PPT are la dispoziție algoritmi exponențiali în timp. \n",
    "\n",
    "            Fals\n",
    "\n",
    "    "
   ]
  },
  {
   "cell_type": "markdown",
   "metadata": {},
   "source": [
    "# 4. Funcții neglijabile\n",
    "\n",
    "## Care dintre următoarele funcții sunt neglijabile în parametrul de securitate n, având în vedere un adversar PPT? \n",
    "\n",
    "### &ensp;&ensp;&ensp;  1. $f(n) = 2$ \n",
    "### &ensp;&ensp;&ensp;&ensp;&ensp;&ensp; Ne-neglijabilă, $2 \\geq \\frac{1}{n}$ &ensp;  $\\forall n > 0.5$\n",
    "\n",
    "### &ensp;&ensp;&ensp;  2. $f(n) = 1/2000$\n",
    "### &ensp;&ensp;&ensp;&ensp;&ensp;&ensp; Ne-neglijabilă, $1/2000 \\geq \\frac{1}{n}$ &ensp;  $\\forall n > 2000$\n",
    "\n",
    "### &ensp;&ensp;&ensp;  3. $f(n) = \\frac{1}{n^{2000}}$\n",
    "### &ensp;&ensp;&ensp;&ensp;&ensp;&ensp; Ne-neglijabilă, $\\frac{1}{n^{2000}} \\geq \\frac{1}{n^{2001}}$ &ensp;  $\\forall n > 1 $\n",
    "\n",
    "### &ensp;&ensp;&ensp;  4. $f(n) = \\frac{1}{2^{n}}$\n",
    "### &ensp;&ensp;&ensp;&ensp;&ensp;&ensp; neglijabilă, deoarece $ n \\rightarrow x^{-n}$ neglijabilă (sursă wikipedia sper că e okay:p)\n",
    "\n",
    "### &ensp;&ensp;&ensp;  5. $f(n) = f_1(n)+f_2(n)$, unde $f_1(n)$ și $f_2(n)$ sunt neglijabile \n",
    "### &ensp;&ensp;&ensp;&ensp;&ensp;&ensp; neglijabilă, din closure properties\n",
    "\n",
    "### &ensp;&ensp;&ensp;  6. $f(n) = f_1(n)+f_2(n)$, unde $f_1(n)$ este neglijabilă și $f_2(n)$ este ne-neglijabilă\n",
    "### &ensp;&ensp;&ensp;&ensp;&ensp;&ensp; ne-neglijabilă, $f_2(n) \\geq \\frac{1}{p(n)}$,  $f_1(n) \\geq 0$ (pt că e neglijabilă) => $f_1(n)+f_2(n)=f(n) \\geq \\frac{1}{p(n)}$"
   ]
  },
  {
   "cell_type": "markdown",
   "metadata": {},
   "source": [
    "# 5. Securitate computațională \n",
    "\n",
    "### &ensp;&ensp;&ensp; Dați câteva argumente pentru care preferăm să utilizăm securitatea computațională în practică. De ce nu avem ca scop securitatea perfectă (i.e., indiferent de resursele adversarului un sistem să nu poată fi spart)? Discuție. \n",
    "* dificil de implementat\n",
    "* adversarii sunt limitați, deci securitatea perfectă nu e necesară\n",
    "* poate reduce disponibilitatea informației (ex OTP necesită o cheie la fel de lungă ca mesajul transmis, deci se încetinește procesul de criptare/decriptare pentru mesaje lungi)"
   ]
  },
  {
   "cell_type": "markdown",
   "metadata": {},
   "source": [
    "# 6. Atac prin forță brută/căutare exhaustivă \n",
    "## &ensp;&ensp;&ensp;Se consideră un sistem criptografic care folosește o cheie de criptare pe 512 biți.  \n",
    "### &ensp;&ensp;&ensp; • Câte chei posibile distincte există? \n",
    "\n",
    "&ensp;&ensp;&ensp;&ensp;&ensp;&ensp;  $2^{512}$\n",
    "\n",
    "### &ensp;&ensp;&ensp; • Cât timp îi va lua unui adversar găsirea cheii corecte (cazul cel mai nefavorabil) dacă are la dispoziție un calculator care testează 2$\"chei pe secundă? \n",
    "\n",
    "&ensp;&ensp;&ensp;&ensp;&ensp;&ensp; $2^{512}/2^{30} = 2^{482}$ secunde \n",
    "\n",
    "### &ensp;&ensp;&ensp; • Considerați că este un atac eficient?\n",
    "\n",
    "&ensp;&ensp;&ensp;&ensp;&ensp;&ensp; nu?"
   ]
  }
 ],
 "metadata": {
  "language_info": {
   "codemirror_mode": {
    "name": "ipython",
    "version": 3
   },
   "file_extension": ".py",
   "mimetype": "text/x-python",
   "name": "python",
   "nbconvert_exporter": "python",
   "pygments_lexer": "ipython3",
   "version": "3.8.10"
  }
 },
 "nbformat": 4,
 "nbformat_minor": 2
}
