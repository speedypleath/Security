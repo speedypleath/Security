{
 "cells": [
  {
   "cell_type": "markdown",
   "metadata": {},
   "source": [
    "## 1. Noțiuni introductive"
   ]
  },
  {
   "cell_type": "markdown",
   "metadata": {},
   "source": [
    "### Răspundeți cu adevărat sau fals pentru fiecare dintre următoarele afirmații. Căutați online informații despre funcțiile hash menționate."
   ]
  },
  {
   "cell_type": "markdown",
   "metadata": {},
   "source": [
    "a) Amestecarea  ingredientelor  pentru  realizarea  unei  prăjituri  poate  fi  considerată  one-way function. \n",
    "\n",
    "        Adevărat\n",
    "\n",
    "b) Funcția hash MD5 este considerată sigură la coliziuni.  \n",
    "\n",
    "        Fals\n",
    "\n",
    "c) SHA256 este o funcție hash cu output pe 256 biți.  \n",
    "\n",
    "        Adevărat\n",
    "\n",
    "d) Valoarea  hash  SHA-1  pentru  cuvantul  „laborator”  este 0x4bcc6eab9c4ecb9d12dcb0595e2aa5fbc27231f3. \n",
    "\n",
    "        Adevărat\n",
    "\n",
    "e) Este corect să afirmăm că „o funcție hash criptează”. \n",
    "\n",
    "        Fals\n",
    "\n",
    "f) O funcție hash folosită pentru stocarea parolelor trebuie să fie rapidă (i.e., să se calculeze rapid H(x) pentru x dat). \n",
    "\n",
    "        Adevărat\n",
    "\n",
    "g) Hash-ul (fără salt) - 095b2626c9b6bad0eb89019ea6091bd9 – corespunde unei parole sigure, care nu ar fi susceptibilă spre exemplu la un atac de tip dicționar.\n",
    "\n",
    "        Fals"
   ]
  },
  {
   "cell_type": "markdown",
   "metadata": {},
   "source": [
    "## 2. Securitatea funcției hash PHOTON-80/20/16"
   ]
  },
  {
   "cell_type": "markdown",
   "metadata": {},
   "source": [
    "### Citiți despre familia de funcții hash PHOTON [1,2]. În continuare, problema se referă la varianta cu output pe 80 biți."
   ]
  },
  {
   "cell_type": "markdown",
   "metadata": {},
   "source": [
    "Descărcați  Reference-Implementation.zip  de  pe  Moodle;  Atenție!  Codul  sursa  este modificat fata de cel postat la [1] pentru a permite calculul funcțiilor hash pentru valori oarecare,  citite  din  fișierul  input.txt;  Mai  exact,  se  va  calcula  valoarea  hash  pentru fiecare linie din fisierul input.txt, si se va scrie in fișierul output.txt; \n",
    "\n",
    "Ca exemplu de fișiere de input si output, vedeti input_test.txt si output_test.txt, postate pe Moodle; \n",
    "Atentie! Folosiți implementarea bazată pe tabele (table-based implementation), este \n",
    "mult mai rapidă, și versiunea functiei hash pe 80 de biti.\n",
    "\n",
    "        5844 cycles per byte - apple m1"
   ]
  },
  {
   "cell_type": "markdown",
   "metadata": {},
   "source": [
    "Generați  aprox.  10 000 000  valori  de  input,  și  verificați  egalitatea  valorilor  hash obținute cu valorile hash din output_test.txt.\n",
    "\n",
    "        % time cc generate_input.c -o input\n",
    "\n",
    "        cc generate_input.c -o input  0.04s user 0.26s system 65% cpu 0.449 total\n",
    "\n",
    "        % time ./input\n",
    "\n",
    "        ./input 10000000  3.72s user 0.24s system 22% cpu 17.771 total\n",
    "\n",
    "        % time ./photon80 -f\n",
    "\n",
    "        S = 4, D = 5, Rate = 20, Ratep = 16, DigestSize = 80\n",
    "\n",
    "        openfile./photon80 -f  32.75s user 0.68s system 40% cpu 1:21.68 total\n",
    "\n",
    "        time ./check output.txt\n",
    "\n",
    "        Number of inputs: 10000001\n",
    "\n",
    "        Number of collision: 0"
   ]
  },
  {
   "cell_type": "markdown",
   "metadata": {},
   "source": [
    "## 3. Stocarea parolelor"
   ]
  },
  {
   "cell_type": "markdown",
   "metadata": {},
   "source": [
    "### Studiați următoarele exemple de utilizare a parolelor, așa cum au fost definite / folosite de colegii din anii trecuți. Pentru fiecare, menționați posibile vulnerabilități, probleme sau greșeli de utilizare. "
   ]
  },
  {
   "cell_type": "markdown",
   "metadata": {},
   "source": [
    "Exemplul 1 \n",
    "\n",
    "Exemplul 2\n",
    "\n",
    "Exemplul 3 \n",
    "\n",
    "Exemplul 4 \n",
    "\n",
    "Exemplul 5 "
   ]
  }
 ],
 "metadata": {
  "language_info": {
   "name": "python"
  },
  "orig_nbformat": 4
 },
 "nbformat": 4,
 "nbformat_minor": 2
}
