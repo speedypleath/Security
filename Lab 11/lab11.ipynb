{
 "cells": [
  {
   "cell_type": "markdown",
   "metadata": {},
   "source": [
    "## 1. Securizarea codului "
   ]
  },
  {
   "cell_type": "markdown",
   "metadata": {},
   "source": [
    "### Marcați cu Adevărat (A) sau Fals (F) afirmațiile de mai jos.  "
   ]
  },
  {
   "cell_type": "markdown",
   "metadata": {},
   "source": [
    "a) Ca să analizați/testați securitatea aplicației, ajută să gândiți ca un atacator. \n",
    "\n",
    "    Adevărat\n",
    "\n",
    "b) Pentru  că  sunt  foarte  multe,  din  punct  de  vedere  al  logicii/design-ului  aplicației,  nu încercați să acoperiți toate cazurile posibile pentru a preveni un comportament neașteptat. \n",
    "\n",
    "    Fals\n",
    "\n",
    "c) Întotdeauna validați câmpurile de input, atât ca format (tip de date, protejare împotriva SQL injection, etc.) dar și ca valori (dimensiuni, valori minime/maxime, verificări între diferite câmpuri de input; ex. data de început a unei activități anterioară datei de final, prețurile să aibă valori pozitive, etc.) \n",
    "\n",
    "    Adevărat\n",
    "\n",
    "d) Aveți în vedere vulnerabilități de tip buffer overflow. \n",
    "\n",
    "    Adevărat\n",
    "\n",
    "e) În general nu e o practică bună să stocați log-uri, pentru că ocupă spațiu și cresc timpul de așteptare al utilizatorului. \n",
    "\n",
    "    Fals\n",
    "\n",
    "f) Oferiți  cât  mai  multe  detalii  posibile  utilizatorilor  când  eșuează  autentificarea  prin username și parolă sau când implementați mecanisme de recuperare a parolei, pentru a facilita accesul acestora (spre exemplu menționați „Adresa de e-mail nu corespunde unui cont activ” la încercarea de a recupera parola prin e-mail). \n",
    "\n",
    "    Fals\n",
    "\n",
    "g) Dacă folosiți baze de date, în mod normal la ștergerea unei înregistrări folosiți DELETE, pentru  a  nu  mai  păstra  nicio  urmă  a  acesteia  (afirmația  nu  face  referire  la  ștergerea permanentă a unor date personale, conform GDPR [1]). \n",
    "\n",
    "    Fals\n",
    "\n",
    "h) Nu rețineți parole în clar. \n",
    "\n",
    "    Adevărat\n",
    "\n",
    "i) Hardcodați parole în cod.\n",
    "\n",
    "    Fals"
   ]
  },
  {
   "cell_type": "markdown",
   "metadata": {},
   "source": [
    "## 2. Înregistrarea utilizatorilor \n",
    "### Realizați o aplicație web cu o pagină care să conțină un formular pentru înregistrarea unui nou utilizator pe baza adresei de e-mail. Menționați cel puțin 3 aspecte de securitate care trebuie avute în vedere și validați input-ul în mod corespunzător pentru a rezolva cazurile menționate. "
   ]
  },
  {
   "cell_type": "markdown",
   "metadata": {},
   "source": [
    "1. Utilizatorul nu ar trebuie să folosească parole nesigure.\n",
    "2. Utilizatorul trebuie să aibă posibilitatea de a vedea parola inainte de a trimite formularul.\n",
    "3. Parola trebuie sa fie criptată inainte de procesare."
   ]
  },
  {
   "cell_type": "markdown",
   "metadata": {},
   "source": [
    "## 3. Logarea utilizatorilor \n",
    "### Realizați  o  aplicație  web  cu  o  pagină  care  să  conțină  un  formular  pentru  login. \n",
    "### Menționați cel puțin 3 aspecte de securitate care trebuie avute în vedere și validați input-ul în mod corespunzător pentru a rezolva cazurile menționate."
   ]
  },
  {
   "cell_type": "markdown",
   "metadata": {},
   "source": [
    "1. Utilizatorul trebuie sa fie blocat dupa 5 incercari nereusite.\n",
    "2. Autorizarea utilizatorului trebuie facuta prin OAuth.\n",
    "3. Aplicatia trebuie sa ofere cat mai putine informatii despre utilizator cand esueaza logarea."
   ]
  },
  {
   "cell_type": "markdown",
   "metadata": {},
   "source": [
    "## 4. Securizarea aplicațiilor\n",
    " Considerăm scenariul în care trebuie să dezvoltați o aplicație web (frontend si backend) care să conțină utilizatori cu diverse roluri/permisiuni. Faceți o listă cu cel puțin 5 cazuri în logica/design-ul/implementarea aplicației care ar putea fi exploatate de un atacator din cauza unei dezvoltări non-conforme/nesecurizate a aplicației și care ar putea avea un impact major. Precizati întreg procesul: ce acțiuni întreprinde atacatorul, cum realizează atacul, care este impactul, cum se poate preveni/rezolva o astfel de problemă. \n",
    " \n",
    " Exemplul  1.  Un  atacator  încearcă  diverse  manipulari  ale  link-ului  aplicației  și  reușește  să acceseze o pagină la care ar trebui să aibă acces doar un utilizator cu rol de administrator. Această problemă apare deoarece dezvoltatorul nu a realizat o securizare a paginilor pe roluri. Impactul este major deoarece adversarul ar putea dobândi acces la informații confidențiale, modifica  drepturile  altor  utilizatori,  etc.  O  modalitate  de  prevenție  ar  fi  verificarea permisiunilor de acces la nivel de pagină. Acest exemplu este acceptat. \n",
    " \n",
    " Exemplul 2. Un atacator încearcă să își editeze profilul și își poate schimba data de naștere dar nu ii se actualizează vârsta. Aceasta problemă apare deoarece dezvoltatorul nu a apelat funcția de calculare a vârstei la editarea acesteia. Impactul este major pentru că utilizatorul realizează astfel de anomalii și este posibil să îi fie negat accesul la conținut/acțiuni (ex. dacă este minor vs. major. Acest exemplu nu este acceptat pentru că este un bug care nu are un impact care ar putea aduce beneficii clare atacatorului. Dacă însă impactul este bine motivat și se schimbă contextul, atunci putem lua în considerare un exemplu similar. \n",
    "\n",
    "1. Un atacator transmite printr-un formular un query care ii permite accesul de administrator la baza de date. Impactul este major deoarece adversarul are acum acces la toate informatiile confidentiale din aplicatie si le poate modifica. O modalitate de preventie ar fi utilizarea exclusiva a query-urilor parametrizate.\n",
    "2. Un atacator incearca in mod repetat sa ghiceasca parola unui utilizator, blocandu-i contul acestuia. Impactul este minor deoarece userul isi poate recupera parola prin contul de email. O modalitate de preventie ar fi blocarea unui ip dupa o limita de request-uri respinse.\n",
    "3. Mai multi atacatori transmit request-uri catre server, blocand astfel utilizatorii din a il accesa. Impactul este unul mediu deoarece atacul compromite disponibilitatea aplicatiei. O modalitate de preventie ar fi utilizarea unui serviciu precum Cloudflare\n",
    "4. Un atacator trimite un request care ii permite sa acceseze un director al dispozitivului pe care este mentinut serverul. Impactul depinde de modul in care a fost configurat serverul: daca utilizatorul asociat acestuia nu are permisiuni restrictionate impactul poate fi sever.\n",
    "5. Un atacator se interpune intre utilizatori si server si reuseste sa intercepteze mesajele transmise de acestia. Impactul este unul mediu deoarece acesta compromite confidentialitatea datelor. O modalitate de preventie ar fi comunicarea prin Secure Sockets Layer\n"
   ]
  },
  {
   "cell_type": "markdown",
   "metadata": {},
   "source": [
    "## 5. Testarea aplicațiilor\n",
    "### Utilizați OWASP ZAP [4] pentru a verifica securitatea aplicațiilor web. Puteți folosi pentru testare aplicația de la exercițiile precedente, o altă aplicație web personală (ex. lucrarea de licență) sau aplicația de test OWASP Juice Shop [5]. Ce opțiune ați folosit (Automated scan, Manual exploring)? Ce vulnerabilități ați descoperit? Faceți o scurtă prezentare a modului de utilizare și a rezultatelor obținute. "
   ]
  }
 ],
 "metadata": {
  "language_info": {
   "name": "python"
  },
  "orig_nbformat": 4
 },
 "nbformat": 4,
 "nbformat_minor": 2
}
