{
 "cells": [
  {
   "cell_type": "markdown",
   "metadata": {},
   "source": [
    "# 1. One Time Pad (OTP) "
   ]
  },
  {
   "cell_type": "code",
   "execution_count": 1,
   "metadata": {},
   "outputs": [],
   "source": [
    "import base64\n",
    "\n",
    "def bitwise_xor_bytes(a, b):\n",
    "    result_int = int.from_bytes(a, byteorder=\"big\") ^ int.from_bytes(b, byteorder=\"big\")\n",
    "    return result_int.to_bytes(max(len(a), len(b)), byteorder=\"big\")\n"
   ]
  },
  {
   "cell_type": "markdown",
   "metadata": {},
   "source": [
    "## 1. Primiți mesajul criptat următor, în format Base64:  \n",
    " \n",
    "    o9/khC3Pf3/9CyNCbdzHPy5oorccEawZSFt3mgCicRnihDSM8Obhlp3vviAVuBbiOtCSz6husBWqhfF0Q/8EZ+6iI9KygD3hAfFgnzyv9w== \n",
    " \n",
    "### Știți despre acesta că a fost criptat cu cheia secretă următoare, reprezentată în hex: \n",
    " \n",
    "    ecb181a479a6121add5b42264db9b44b4b48d7d93c62c56a3c3e1aba64c7517a90ed44f8919484b6ed8acc4670db62c249b9f5bada4ed474c9e4d111308b614788cd4fbdc1e949c1629e12fa5fdbd9 \n",
    " \n",
    "### Decriptați. Care este mesajul clar primit? "
   ]
  },
  {
   "cell_type": "code",
   "execution_count": 2,
   "metadata": {},
   "outputs": [
    {
     "name": "stdout",
     "output_type": "stream",
     "text": [
      "b'One Time Pad este un sistem de criptare perfect sigur daca este folosit corect.'\n"
     ]
    }
   ],
   "source": [
    "mesaj_criptat = base64.b64decode(\"o9/khC3Pf3/9CyNCbdzHPy5oorccEawZSFt3mgCicRnihDSM8Obhlp3vviAVuBbiOtCSz6husBWqhfF0Q/8EZ+6iI9KygD3hAfFgnzyv9w==\")\n",
    "cheie = b''.fromhex(\"ecb181a479a6121add5b42264db9b44b4b48d7d93c62c56a3c3e1aba64c7517a90ed44f8919484b6ed8acc4670db62c249b9f5bada4ed474c9e4d111308b614788cd4fbdc1e949c1629e12fa5fdbd9\")\n",
    "\n",
    "mesaj_decriptat = bitwise_xor_bytes(mesaj_criptat, cheie)\n",
    "print(mesaj_decriptat)"
   ]
  },
  {
   "cell_type": "markdown",
   "metadata": {},
   "source": [
    "## 2. Există o cheie care ar fi decriptat același text criptat de la pct.1 în textul clar următor? \n",
    "## Care este această cheie? (Atentie! Nu se folosesc diacritice.) \n",
    " \n",
    "    Orice text clar poate obtinut dintr-un text criptat cu OTP dar cu o alta cheie. "
   ]
  },
  {
   "cell_type": "code",
   "execution_count": 44,
   "metadata": {},
   "outputs": [
    {
     "name": "stdout",
     "output_type": "stream",
     "text": [
      "ecad8de748ef0b1a857f032101bdb51f5e07c3c37931c37b3c3219ef748215708cf046a18588c1e2f897ca0076ca7f924eb1e6efcb1b905afed5d110228d24049b824cf2d3ec4980219208fa55cad9\n"
     ]
    }
   ],
   "source": [
    "mesaj_nou = b'Orice text clar poate obtinut dintr-un text criptat cu OTP dar cu o alta cheie.'\n",
    "cheie_noua = bitwise_xor_bytes(mesaj_nou, mesaj_criptat)\n",
    "\n",
    "print(cheie_noua.hex())"
   ]
  },
  {
   "cell_type": "markdown",
   "metadata": {},
   "source": [
    "## 3. Ce impact are refolosirea cheii de la pct.1 pentru o altă criptare?\n",
    "\n",
    "    Putem afla informatii despre mesaj fara a afla cheia"
   ]
  },
  {
   "cell_type": "code",
   "execution_count": 46,
   "metadata": {},
   "outputs": [
    {
     "name": "stdout",
     "output_type": "stream",
     "text": [
      "b'\\x00\\x1c\\x0cC1I\\x19\\x00X$A\\x07L\\x04\\x01T\\x15O\\x14\\x1aES\\x06\\x11\\x00\\x0c\\x03U\\x10ED\\n\\x1c\\x1d\\x02Y\\x14\\x1cET\\x15\\x1d\\x06F\\x06\\x11\\x1dP\\x07\\x08\\x13U\\x11UD.71\\x00\\x01\\x12\\x06EC\\x13O\\x03O\\x12\\x05\\x00AC\\x0c\\x1a\\x00\\n\\x11\\x00'\n"
     ]
    }
   ],
   "source": [
    "c2 = bitwise_xor_bytes(mesaj_nou, cheie)\n",
    "print(bitwise_xor_bytes(mesaj_criptat, c2)) # este egal cu mesaj1 xor mesaj2"
   ]
  },
  {
   "cell_type": "markdown",
   "metadata": {},
   "source": [
    "# 2. Sisteme de criptare istorice "
   ]
  },
  {
   "cell_type": "markdown",
   "metadata": {},
   "source": [
    "## 1. Alegeți un sistem istoric de criptare care folosește metoda substituției. Dați un exemplu de criptare și un exemplu de decriptare, explicând cum funcționează. Ce puteți spune despre securitatea sistemului de criptare? Ce tehnici de criptanaliză ați putea folosi pentru a sparge sistemul? \n",
    "\n",
    "## Kamasutra cipher\n",
    "\n",
    "| Original      | a | b\t| c | d | e | f | g | h | i | j | k | l | m | n | o | p | q | r | s | t | u | v | w | x | y | z |\n",
    "| -----------   | - | -\t| - | - | - | - | - | - | - | - | - | - | - | - | - | - | - | - | - | - | - | - | - | - | - | - |\n",
    "| Substitution  | b | a\t| i | u | p | h | s | f | c | z | l | k | q | w | r | e | m | o | g | x | d | y | n | t | v | j |\n",
    "\n",
    "### Exemplu:\n",
    "\n",
    "Mesaj: MESAJ CARE URMEAZA SA FIE CRIPTAT\n",
    "\n",
    "Mesaj criptat: QPGBZ IBOP DOQPBJB GB HCP IOCEXBX\n",
    "\n",
    "Fiecare caracter este substituit cu valoarea din tabel, tabelul a fost creat prin generarea de perechi de caractere\n",
    "\n",
    "Sistemul de criptare nu este sigur, cheia poate fi gasita folosind analiza de frecventa"
   ]
  },
  {
   "cell_type": "markdown",
   "metadata": {},
   "source": [
    "## 2. Alegeți  un  sistem  istoric  de  criptare  care  folosește  metoda  transpoziției.  Dați  un exemplu de criptare și un exemplu de decriptare, explicând cum funcționează. Ce puteți spune despre securitatea sistemului de criptare? Ce tehnici de criptanaliză ați putea folosi pentru a sparge sistemul?\n",
    "MESAJ CARE URMEAZA SA FIE CRIPTAT\n",
    "\n",
    "    M..A..A..U..E..A..F..C..P..T\n",
    "\n",
    "    .E..J..R..R..A..S..I..R..T..\n",
    "\n",
    "    ..S..C..E..M..Z..A..E..I..A.\n",
    "\n",
    "MAAUEAFCPTEJRRASIRTSCEMZAEIA\n",
    "\n",
    "Sistemul de criptare nu este sigur, mesajul poate fi decriptat daca se cunoaste numarul de \"rails\", daca numarul e necunoscut se poate face bruteforce pentru a il afla"
   ]
  },
  {
   "cell_type": "markdown",
   "metadata": {},
   "source": [
    "# 3. Analiza de frecvență \n",
    "\n",
    "ALICE AND BOB ARE THE WORLDS MOST FAMOUS CRYPTOGRAPHIC COUPLE. SINCE THEIR INVENTION IN 1978, THEY HAVE AT ONCE BEEN CALLED INSEPARABLE, AND HAVE BEEN THE SUBJECT OF NUMEROUS DIVORCES, TRAVELS, AND TORMENTS. IN THE ENSUING YEARS, OTHER CHARACTERS HAVE JOINED THEIR CRYPTOGRAPHIC FAMILY. THERES EVE, THE PASSIVE AND SUBMISSIVE EAVESDROPPER, MALLORY THE MALICIOUS ATTACKER, AND TRENT, TRUSTED BY ALL, JUST TO NAME A FEW. WHILE ALICE, BOB, AND THEIR EXTENDED FAMILY WERE ORIGINALLY USED TO EXPLAIN HOW PUBLIC KEY CRYPTOGRAPHY WORKS, THEY HAVE SINCE BECOME WIDELY USED ACROSS OTHER SCIENCE AND ENGINEERING DOMAINS. THEIR INFLUENCE CONTINUES TO GROW OUTSIDE OF ACADEMIA AS WELL: ALICE AND BOB ARE NOW A PART OF GEEK LORE, AND SUBJECT TO NARRATIVES AND VISUAL DEPICTIONS THAT COMBINE PEDAGOGY WITH IN-JOKES, OFTEN REFLECTING OF THE SEXIST AND HETERONORMATIVE ENVIRONMENTS IN WHICH THEY WERE BORN AND CONTINUE TO BE USED. MORE THAN JUST THE WORLDS MOST FAMOUS CRYPTOGRAPHIC COUPLE, ALICE AND BOB HAVE BECOME AN ARCHETYPE OF DIGITAL EXCHANGE, AND A LENS THROUGH WHICH TO VIEW BROADER DIGITAL CULTURE. Q.DUPONT AND A.CATTAPAN CRYPTOCOUPLE"
   ]
  },
  {
   "cell_type": "markdown",
   "metadata": {},
   "source": [
    "# 4. Sistemul de criptare mecanic Enigma"
   ]
  },
  {
   "cell_type": "markdown",
   "metadata": {},
   "source": [
    "## Parcurgeți următorii pași: \n",
    "1. Preluați cheia zilei din o carte a codurilor disponibilă online, spre exemplu la [8]. \n",
    "2. Setați cheia zilei în simulatorul Enigma. \n",
    "\n",
    "    III V I | 11 08 15 | E X B | AB CE DT FG HY IX JO KV MN RW\n",
    "3. Criptați numele dumneavoastră. Ce obțineți? \n",
    "\n",
    "    FYXNYT\n",
    "4. Decriptați textul criptat obținut ca să obțineți numele ca text clar. Cum ați procedat? \n",
    "\n",
    "    Am resetat masina si am introdus textul criptat => ANDREI\n",
    "5. Puteți da un exemplu de text criptat de aceeași lungime care în mod clar nu ar putea fi \n",
    "criptarea numelui? Cum ați gândit? \n",
    "\n",
    "    FFFFFF"
   ]
  }
 ],
 "metadata": {
  "interpreter": {
   "hash": "7e1998ff7f8aa20ada591c520b972326324e5ea05489af9e422744c7c09f6dad"
  },
  "kernelspec": {
   "display_name": "Python 3.10.0 64-bit",
   "name": "python3"
  },
  "language_info": {
   "codemirror_mode": {
    "name": "ipython",
    "version": 3
   },
   "file_extension": ".py",
   "mimetype": "text/x-python",
   "name": "python",
   "nbconvert_exporter": "python",
   "pygments_lexer": "ipython3",
   "version": "3.10.0"
  },
  "orig_nbformat": 4
 },
 "nbformat": 4,
 "nbformat_minor": 2
}
