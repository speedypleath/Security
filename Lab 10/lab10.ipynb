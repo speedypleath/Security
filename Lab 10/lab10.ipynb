{
 "cells": [
  {
   "cell_type": "markdown",
   "metadata": {},
   "source": [
    "## 1. Factorizarea modulului RSA "
   ]
  },
  {
   "cell_type": "markdown",
   "metadata": {},
   "source": [
    "### Se consideră cheia publică RSA cu modulul pe 128 biți: \n",
    "\n",
    "n = 234841136411758273000763594354834942653\n",
    "\n",
    "e = 65537\n",
    "\n",
    "### Factorizați modulul, i.e. determinați valorile p și q [1]. Calculați apoi coeficientul de decriptare d [2]. \n",
    "\n",
    "p = 14086963408384851001\n",
    "\n",
    "q = 16670813262138239653\n",
    "\n",
    "d = 131139372709478882400526464589358085473"
   ]
  },
  {
   "cell_type": "markdown",
   "metadata": {},
   "source": [
    "## 2. Generarea cheilor RSA folosind OpenSSL"
   ]
  },
  {
   "cell_type": "markdown",
   "metadata": {},
   "source": [
    "### Răspundeți la următoarele cerințe:"
   ]
  },
  {
   "cell_type": "markdown",
   "metadata": {},
   "source": [
    "a) Folosind OpenSSL [3], generați pentru Alice o cheie RSA pe 2048 biți, stocată într-un fișier alice_sk.pem. \n",
    "\n",
    "b) Care este valoarea exponentului de criptare?\n",
    "\n",
    "    privateExponent:\n",
    "        5d:1b:53:5e:27:30:be:45:84:86:6b:87:58:f3:34:\n",
    "        a4:f4:5a:34:0f:fa:40:f1:9a:08:91:02:37:c4:cd:\n",
    "        9b:28:29:c1:45:b0:ea:75:d4:ba:71:66:0a:1e:5d:\n",
    "        b6:c8:4b:72:33:ca:db:a3:23:34:7d:85:85:1e:4a:\n",
    "        90:ab:05:8d:b4:94:43:6b:65:02:6b:46:f9:54:e9:\n",
    "        89:b3:d6:59:3a:e1:8a:f5:bd:9a:94:26:46:c5:6a:\n",
    "        dd:5e:e3:83:90:be:0a:b6:e2:13:21:df:ca:15:13:\n",
    "        a3:d8:45:a4:1c:71:77:16:d8:07:21:29:f6:84:8d:\n",
    "        02:d0:f0:e1:01:d1:73:19:76:80:57:a3:db:58:73:\n",
    "        d6:e6:ff:77:ce:5d:b7:c3:94:92:56:ce:74:2c:02:\n",
    "        22:cc:25:e7:93:6e:99:4a:ac:84:54:ca:cb:52:5e:\n",
    "        ba:5e:20:9d:1e:df:53:0b:eb:cc:2e:53:57:ba:69:\n",
    "        b9:de:28:05:09:e0:63:1e:61:f9:a4:b4:36:f2:1b:\n",
    "        4a:ca:f6:b2:a4:5d:e5:98:73:56:fe:7c:6a:ca:1b:\n",
    "        20:4d:01:f1:2d:b4:d6:0b:21:3c:64:fb:17:1b:76:\n",
    "        8b:e6:7b:87:d4:a3:de:e2:8e:c9:9a:35:95:9e:23:\n",
    "        c3:98:59:75:0b:cc:bf:09:05:f2:a5:79:58:03:f7:\n",
    "        \n",
    "\n",
    "c) Decodați această cheie. Aflați valoarea modulului N și a celor două numere prime p și q. \n",
    "\n",
    "    modulus:\n",
    "        00:be:7d:33:e2:e6:02:8d:95:86:30:6a:1c:da:a4:\n",
    "        98:52:fe:90:10:10:9c:01:a9:3f:d0:c6:eb:cf:a0:\n",
    "        45:0c:68:cb:93:d9:e1:7d:19:d8:cb:6c:59:1e:c7:\n",
    "        8d:89:04:ce:0c:28:49:74:a7:d9:82:3b:44:57:b7:\n",
    "        4d:ef:70:11:f8:a6:0d:71:2f:3e:22:6a:30:8b:fb:\n",
    "        94:5b:1d:f6:25:8e:1b:8d:e7:67:e7:45:82:db:3e:\n",
    "        53:27:0d:c2:c9:69:0c:6c:3f:6d:cc:84:45:5e:3c:\n",
    "        dc:ee:79:2e:d3:a7:87:21:00:1c:e1:ca:ed:6e:be:\n",
    "        f3:89:29:83:c6:93:a8:cd:21:69:0d:15:62:19:d0:\n",
    "        ee:29:70:4f:8e:49:60:ff:ca:e6:f8:d6:54:04:ea:\n",
    "        03:83:53:4f:4a:06:38:72:a8:70:2a:ee:d6:66:e0:\n",
    "        e5:91:71:d6:f7:f4:5f:10:f7:b4:c6:db:19:ce:b9:\n",
    "        0b:6d:bf:8b:c1:02:46:04:75:36:3a:55:3b:0d:97:\n",
    "        13:0d:a1:15:63:62:18:ac:9a:3b:5a:f8:ab:47:30:\n",
    "        cb:93:de:76:3a:7f:ae:ab:52:64:45:5e:96:70:6c:\n",
    "        2e:8c:9e:ab:a9:62:0f:eb:5e:6b:ef:0d:10:75:f1:\n",
    "        cd:66:01:b1:cc:63:ac:c2:28:2f:04:3d:be:26:e2:\n",
    "        21:c9\n",
    "\n",
    "    prime1:\n",
    "        00:e4:7b:6e:17:43:84:c2:93:7b:77:23:16:c5:7d:\n",
    "        c5:56:27:b3:8a:23:cc:db:02:68:88:44:ef:f2:f4:\n",
    "        a0:bf:38:32:57:48:a7:5f:38:86:b9:a3:09:9d:ef:\n",
    "        63:9c:cc:f3:b3:7c:1b:76:bb:52:9e:e4:15:e4:15:\n",
    "        f5:35:91:8d:4c:60:d1:4e:5e:e0:e6:d6:a2:1c:16:\n",
    "        27:f9:6e:ff:09:61:f8:3d:4c:1f:56:48:cf:13:9b:\n",
    "        41:c9:4b:34:81:cb:f8:43:7e:07:be:e4:51:7e:6e:\n",
    "        e8:0a:bb:82:e0:91:48:ac:9a:1f:1b:ba:0f:8f:05:\n",
    "        96:e4:5c:4f:f2:60:16:02:15\n",
    "    \n",
    "    prime2:\n",
    "        00:d5:6e:5e:65:dd:87:11:6a:fc:6d:35:fb:5d:3e:\n",
    "        39:ab:55:90:76:0d:d0:ec:20:9d:38:43:ea:5f:0f:\n",
    "        65:e0:27:cc:93:31:44:8b:87:31:1d:52:5d:1e:f4:\n",
    "        7e:b9:95:af:af:59:d9:9c:7e:a3:cc:2c:d5:73:66:\n",
    "        d3:65:54:ce:5f:f3:ef:c3:59:4a:f4:6d:cc:1f:31:\n",
    "        3a:59:01:a4:65:a2:a5:38:6b:ea:8c:d0:78:8f:34:\n",
    "        79:c0:2e:c1:a3:f5:38:99:1f:61:47:df:92:6f:d0:\n",
    "        0d:83:b3:51:ee:7d:73:05:56:bf:bd:e2:24:eb:22:\n",
    "        54:15:37:bc:ba:07:eb:71:e5\n",
    "\n",
    "d) Cheia lui Alice nu este protejată în niciun fel, deci este vulnerabilă. Alegeți o parolă puternică și generați o nouă cheie protejată folosind această parolă și AES256. \n",
    "\n",
    "e) Ce diferențe observați? Decodați această cheie folosind parola folosită la creare. \n",
    "\n",
    "f) Care  este  valoarea  exponentului  de  criptare?  Ce  observați?  Impactează  această alegere securitatea?  \n",
    "\n",
    "    privateExponent:\n",
    "        5a:28:53:12:05:b1:33:42:64:1b:e1:d2:eb:a4:52:\n",
    "        cc:3e:04:57:50:43:0e:ae:1e:b7:21:07:50:40:73:\n",
    "        96:fe:55:98:0d:8d:f2:20:c6:35:fb:5a:5e:fc:b6:\n",
    "        6c:51:17:44:93:6e:4a:71:e0:35:8a:e2:0f:9b:08:\n",
    "        34:d4:fa:85:8e:52:40:c4:90:cb:a6:18:6d:00:49:\n",
    "        86:af:f0:a4:0b:65:94:59:58:84:2b:24:40:39:80:\n",
    "        dc:85:76:10:b9:1f:ea:63:4d:be:1b:18:f9:77:07:\n",
    "        06:bc:07:bd:d7:61:a5:02:bb:aa:e1:b3:16:3d:6f:\n",
    "        30:b5:e3:ce:db:ed:94:bc:cd:94:39:6c:ca:2a:46:\n",
    "        05:4e:cd:04:69:ee:60:9e:a1:cf:62:fb:f1:0d:67:\n",
    "        ec:fc:be:8d:2b:21:3d:d5:c4:7a:c5:1e:04:f2:d8:\n",
    "        ec:11:8f:eb:9c:9b:9e:5f:d4:b8:e0:ae:5c:f6:1a:\n",
    "        a2:4b:b7:ca:60:36:00:9d:87:8d:a4:1a:90:ef:73:\n",
    "        f6:6d:ee:61:51:2d:9c:98:80:7b:df:a8:1a:90:82:\n",
    "        a4:69:fc:f3:ee:94:72:7a:12:a4:c7:b0:0e:67:dd:\n",
    "        88:a1:07:39:04:5d:fb:7b:52:59:e4:77:5d:d0:30:\n",
    "        3d:6d:54:37:55:05:c8:6d:42:31:19:9b:1c:8a:a8:\n",
    "        d1\n"
   ]
  },
  {
   "cell_type": "markdown",
   "metadata": {},
   "source": [
    "## 3. Criptarea RSA și criptarea hibridă "
   ]
  },
  {
   "cell_type": "markdown",
   "metadata": {},
   "source": [
    "### Răspundeți la următoarele cerințe: "
   ]
  },
  {
   "cell_type": "markdown",
   "metadata": {},
   "source": [
    "a) Jucați  rolul  lui  Bob.  Criptați  fișierul  bob_message.txt  folosind  RSA  [4]  și  cheia generată anterior. Încercați să criptați fișierul bob_message.rtf folosind RSA [4] și cheia generată anterior. Ce observați? De ce se întâmplă aceasta? \n",
    "\n",
    "    fisierul bob_message.rtf nu este criptat cu RSA.\n",
    "\n",
    "b) Folosiți criptarea hibridă pentru a cripta mesajul lui Bob către Alice. Pentru aceasta, generați o cheie simetrică pe 256 biți (32 bytes) și folosiți această cheie pentru criptarea fișierului bob_message.rtf cu AES-CTR [5]. Criptați noua cheie asimetric, folosind RSA. \n",
    "\n",
    "    cheia simetrica generata pentru AES-CTR este:\n",
    "        00:d5:6e:5e:65:dd:87:11:6a:fc:6d:35:fb:5d:3e:\n",
    "        39:ab:55:90:76:0d:d0:ec:20:9d:38:43:ea:5f:0f:\n",
    "        65:e0:27:cc:93:31:44:8b:87:31:1d:52:5d:1e:f4:\n",
    "        7e:b9:95:af:af:59:d9:9c:7e:a3:cc:2c:d5:73:66:\n",
    "        d3:65:54:ce:5f:f3:ef:c3:59:4a:f4:6d:cc:1f:31:\n",
    "        3a:59:01:a4:65:a2:a5:38:6b:ea:8c:d0:78:8f:34:\n",
    "        79:c0:2e:c1:a3:f5:38:99:1f:61:47:df:92:6f:d0:\n",
    "        0d:83:b3:51:ee:7d:73:05:56:bf:bd:e2:24:eb:22:\n",
    "        54:15:37:bc:ba:07:eb:71:e5\n",
    "        \n",
    "c) Jucați rolul lui Alice. Folosiți fișierele criptate primite (criptarea cheii AES folosind RSA și criptarea mesajului folosind AES-CTR), decriptați și obțineți mesajul inițial. \n"
   ]
  }
 ],
 "metadata": {
  "interpreter": {
   "hash": "b0fa6594d8f4cbf19f97940f81e996739fb7646882a419484c72d19e05852a7e"
  },
  "kernelspec": {
   "display_name": "Python 3.9.9 64-bit",
   "language": "python",
   "name": "python3"
  },
  "language_info": {
   "codemirror_mode": {
    "name": "ipython",
    "version": 3
   },
   "file_extension": ".py",
   "mimetype": "text/x-python",
   "name": "python",
   "nbconvert_exporter": "python",
   "pygments_lexer": "ipython3",
   "version": "3.9.9"
  },
  "orig_nbformat": 4
 },
 "nbformat": 4,
 "nbformat_minor": 2
}
